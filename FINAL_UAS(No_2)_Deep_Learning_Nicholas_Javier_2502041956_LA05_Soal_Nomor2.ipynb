{
  "nbformat": 4,
  "nbformat_minor": 0,
  "metadata": {
    "colab": {
      "provenance": [],
      "gpuType": "T4"
    },
    "kernelspec": {
      "name": "python3",
      "display_name": "Python 3"
    },
    "language_info": {
      "name": "python"
    },
    "accelerator": "GPU"
  },
  "cells": [
    {
      "cell_type": "code",
      "execution_count": null,
      "metadata": {
        "id": "4H2LKJF5VkVq"
      },
      "outputs": [],
      "source": [
        "import pandas as pd\n",
        "import tensorflow as tf\n",
        "from transformers import BertTokenizer, TFBertForSequenceClassification\n",
        "from torch.utils.data import DataLoader, TensorDataset\n",
        "from sklearn.model_selection import train_test_split\n",
        "from sklearn.metrics import classification_report, roc_auc_score\n",
        "import torch\n",
        "import torch.nn as nn\n",
        "import torch.optim as optim\n",
        "import numpy as np\n",
        "import seaborn as sns\n",
        "import matplotlib.pyplot as plt"
      ]
    },
    {
      "cell_type": "markdown",
      "source": [
        "Link onedrive(video penjelasan semua nomor): https://binusianorg-my.sharepoint.com/personal/nicholas_javier_binus_ac_id/_layouts/15/guestaccess.aspx?share=ER_SwVOgwr1GgVXre8eBkjQBs8GBPpUdQTa-12VatGVNXw\n",
        "\n",
        "Link onedrive(backup): https://binusianorg-my.sharepoint.com/personal/nicholas_javier_binus_ac_id/_layouts/15/guestaccess.aspx?share=ER_SwVOgwr1GgVXre8eBkjQBs8GBPpUdQTa-12VatGVNXw&nav=eyJyZWZlcnJhbEluZm8iOnsicmVmZXJyYWxBcHAiOiJPbmVEcml2ZUZvckJ1c2luZXNzIiwicmVmZXJyYWxBcHBQbGF0Zm9ybSI6IldlYiIsInJlZmVycmFsTW9kZSI6InZpZXciLCJyZWZlcnJhbFZpZXciOiJNeUZpbGVzTGlua0NvcHkifX0&e=EZxLJy\n",
        "\n",
        "Link youtube(video penjelasan semua nomor): https://youtu.be/IEJqxwOFtPM\n"
      ],
      "metadata": {
        "id": "8oJcLI37qhNs"
      }
    },
    {
      "cell_type": "markdown",
      "source": [
        "# NIM - Nama - Kelas : 2502041956 - Nicholas Javier - LA05"
      ],
      "metadata": {
        "id": "hRVVFMQ2X_f1"
      }
    },
    {
      "cell_type": "markdown",
      "source": [
        "## 2. [LO 1, LO 2, LO 3, LO4 35 points] You are a data scientist tasked with developing a sentiment analysis system for a hospital in Indonesia. This system aims to discern emotions from questionnaire responses. You have access to various datasets containing information such as Text and sentiment labels. These datasets are stored under the name “Emotion.csv”. The following are the specifications for this application:\n"
      ],
      "metadata": {
        "id": "MO8B58QqYGuA"
      }
    },
    {
      "cell_type": "markdown",
      "source": [
        "### a. [LO 1, LO 2, LO 3, LO 4, 5 points] Perform Preprocess and prepare Dataset step, describe each step including some concepts in Natural Language Processing (NLP). & b. [LO 1, LO 2, LO 3, LO 4, 5 points] Divide the dataset into training, validation, and testing sets following these guidelines: allocate 70% of the data for training, 15% for validation, and 15% for testing.\n",
        "\n"
      ],
      "metadata": {
        "id": "_xYAaqHpYavN"
      }
    },
    {
      "cell_type": "code",
      "source": [
        "df = pd.read_csv('Emotion.csv')\n",
        "df.head(5)"
      ],
      "metadata": {
        "colab": {
          "base_uri": "https://localhost:8080/",
          "height": 206
        },
        "id": "zOaefWsZYhEp",
        "outputId": "b13c050d-45e8-4096-eef9-8f23a91f4092"
      },
      "execution_count": null,
      "outputs": [
        {
          "output_type": "execute_result",
          "data": {
            "text/plain": [
              "                                                text    label\n",
              "0                            i didnt feel humiliated  sadness\n",
              "1  i can go from feeling so hopeless to so damned...  sadness\n",
              "2   im grabbing a minute to post i feel greedy wrong    anger\n",
              "3  i am ever feeling nostalgic about the fireplac...     love\n",
              "4                               i am feeling grouchy    anger"
            ],
            "text/html": [
              "\n",
              "  <div id=\"df-1a0fcffc-383f-4db4-b015-6afbd2689fb1\" class=\"colab-df-container\">\n",
              "    <div>\n",
              "<style scoped>\n",
              "    .dataframe tbody tr th:only-of-type {\n",
              "        vertical-align: middle;\n",
              "    }\n",
              "\n",
              "    .dataframe tbody tr th {\n",
              "        vertical-align: top;\n",
              "    }\n",
              "\n",
              "    .dataframe thead th {\n",
              "        text-align: right;\n",
              "    }\n",
              "</style>\n",
              "<table border=\"1\" class=\"dataframe\">\n",
              "  <thead>\n",
              "    <tr style=\"text-align: right;\">\n",
              "      <th></th>\n",
              "      <th>text</th>\n",
              "      <th>label</th>\n",
              "    </tr>\n",
              "  </thead>\n",
              "  <tbody>\n",
              "    <tr>\n",
              "      <th>0</th>\n",
              "      <td>i didnt feel humiliated</td>\n",
              "      <td>sadness</td>\n",
              "    </tr>\n",
              "    <tr>\n",
              "      <th>1</th>\n",
              "      <td>i can go from feeling so hopeless to so damned...</td>\n",
              "      <td>sadness</td>\n",
              "    </tr>\n",
              "    <tr>\n",
              "      <th>2</th>\n",
              "      <td>im grabbing a minute to post i feel greedy wrong</td>\n",
              "      <td>anger</td>\n",
              "    </tr>\n",
              "    <tr>\n",
              "      <th>3</th>\n",
              "      <td>i am ever feeling nostalgic about the fireplac...</td>\n",
              "      <td>love</td>\n",
              "    </tr>\n",
              "    <tr>\n",
              "      <th>4</th>\n",
              "      <td>i am feeling grouchy</td>\n",
              "      <td>anger</td>\n",
              "    </tr>\n",
              "  </tbody>\n",
              "</table>\n",
              "</div>\n",
              "    <div class=\"colab-df-buttons\">\n",
              "\n",
              "  <div class=\"colab-df-container\">\n",
              "    <button class=\"colab-df-convert\" onclick=\"convertToInteractive('df-1a0fcffc-383f-4db4-b015-6afbd2689fb1')\"\n",
              "            title=\"Convert this dataframe to an interactive table.\"\n",
              "            style=\"display:none;\">\n",
              "\n",
              "  <svg xmlns=\"http://www.w3.org/2000/svg\" height=\"24px\" viewBox=\"0 -960 960 960\">\n",
              "    <path d=\"M120-120v-720h720v720H120Zm60-500h600v-160H180v160Zm220 220h160v-160H400v160Zm0 220h160v-160H400v160ZM180-400h160v-160H180v160Zm440 0h160v-160H620v160ZM180-180h160v-160H180v160Zm440 0h160v-160H620v160Z\"/>\n",
              "  </svg>\n",
              "    </button>\n",
              "\n",
              "  <style>\n",
              "    .colab-df-container {\n",
              "      display:flex;\n",
              "      gap: 12px;\n",
              "    }\n",
              "\n",
              "    .colab-df-convert {\n",
              "      background-color: #E8F0FE;\n",
              "      border: none;\n",
              "      border-radius: 50%;\n",
              "      cursor: pointer;\n",
              "      display: none;\n",
              "      fill: #1967D2;\n",
              "      height: 32px;\n",
              "      padding: 0 0 0 0;\n",
              "      width: 32px;\n",
              "    }\n",
              "\n",
              "    .colab-df-convert:hover {\n",
              "      background-color: #E2EBFA;\n",
              "      box-shadow: 0px 1px 2px rgba(60, 64, 67, 0.3), 0px 1px 3px 1px rgba(60, 64, 67, 0.15);\n",
              "      fill: #174EA6;\n",
              "    }\n",
              "\n",
              "    .colab-df-buttons div {\n",
              "      margin-bottom: 4px;\n",
              "    }\n",
              "\n",
              "    [theme=dark] .colab-df-convert {\n",
              "      background-color: #3B4455;\n",
              "      fill: #D2E3FC;\n",
              "    }\n",
              "\n",
              "    [theme=dark] .colab-df-convert:hover {\n",
              "      background-color: #434B5C;\n",
              "      box-shadow: 0px 1px 3px 1px rgba(0, 0, 0, 0.15);\n",
              "      filter: drop-shadow(0px 1px 2px rgba(0, 0, 0, 0.3));\n",
              "      fill: #FFFFFF;\n",
              "    }\n",
              "  </style>\n",
              "\n",
              "    <script>\n",
              "      const buttonEl =\n",
              "        document.querySelector('#df-1a0fcffc-383f-4db4-b015-6afbd2689fb1 button.colab-df-convert');\n",
              "      buttonEl.style.display =\n",
              "        google.colab.kernel.accessAllowed ? 'block' : 'none';\n",
              "\n",
              "      async function convertToInteractive(key) {\n",
              "        const element = document.querySelector('#df-1a0fcffc-383f-4db4-b015-6afbd2689fb1');\n",
              "        const dataTable =\n",
              "          await google.colab.kernel.invokeFunction('convertToInteractive',\n",
              "                                                    [key], {});\n",
              "        if (!dataTable) return;\n",
              "\n",
              "        const docLinkHtml = 'Like what you see? Visit the ' +\n",
              "          '<a target=\"_blank\" href=https://colab.research.google.com/notebooks/data_table.ipynb>data table notebook</a>'\n",
              "          + ' to learn more about interactive tables.';\n",
              "        element.innerHTML = '';\n",
              "        dataTable['output_type'] = 'display_data';\n",
              "        await google.colab.output.renderOutput(dataTable, element);\n",
              "        const docLink = document.createElement('div');\n",
              "        docLink.innerHTML = docLinkHtml;\n",
              "        element.appendChild(docLink);\n",
              "      }\n",
              "    </script>\n",
              "  </div>\n",
              "\n",
              "\n",
              "<div id=\"df-21497b01-06c4-4440-9d09-647d78e336d0\">\n",
              "  <button class=\"colab-df-quickchart\" onclick=\"quickchart('df-21497b01-06c4-4440-9d09-647d78e336d0')\"\n",
              "            title=\"Suggest charts\"\n",
              "            style=\"display:none;\">\n",
              "\n",
              "<svg xmlns=\"http://www.w3.org/2000/svg\" height=\"24px\"viewBox=\"0 0 24 24\"\n",
              "     width=\"24px\">\n",
              "    <g>\n",
              "        <path d=\"M19 3H5c-1.1 0-2 .9-2 2v14c0 1.1.9 2 2 2h14c1.1 0 2-.9 2-2V5c0-1.1-.9-2-2-2zM9 17H7v-7h2v7zm4 0h-2V7h2v10zm4 0h-2v-4h2v4z\"/>\n",
              "    </g>\n",
              "</svg>\n",
              "  </button>\n",
              "\n",
              "<style>\n",
              "  .colab-df-quickchart {\n",
              "      --bg-color: #E8F0FE;\n",
              "      --fill-color: #1967D2;\n",
              "      --hover-bg-color: #E2EBFA;\n",
              "      --hover-fill-color: #174EA6;\n",
              "      --disabled-fill-color: #AAA;\n",
              "      --disabled-bg-color: #DDD;\n",
              "  }\n",
              "\n",
              "  [theme=dark] .colab-df-quickchart {\n",
              "      --bg-color: #3B4455;\n",
              "      --fill-color: #D2E3FC;\n",
              "      --hover-bg-color: #434B5C;\n",
              "      --hover-fill-color: #FFFFFF;\n",
              "      --disabled-bg-color: #3B4455;\n",
              "      --disabled-fill-color: #666;\n",
              "  }\n",
              "\n",
              "  .colab-df-quickchart {\n",
              "    background-color: var(--bg-color);\n",
              "    border: none;\n",
              "    border-radius: 50%;\n",
              "    cursor: pointer;\n",
              "    display: none;\n",
              "    fill: var(--fill-color);\n",
              "    height: 32px;\n",
              "    padding: 0;\n",
              "    width: 32px;\n",
              "  }\n",
              "\n",
              "  .colab-df-quickchart:hover {\n",
              "    background-color: var(--hover-bg-color);\n",
              "    box-shadow: 0 1px 2px rgba(60, 64, 67, 0.3), 0 1px 3px 1px rgba(60, 64, 67, 0.15);\n",
              "    fill: var(--button-hover-fill-color);\n",
              "  }\n",
              "\n",
              "  .colab-df-quickchart-complete:disabled,\n",
              "  .colab-df-quickchart-complete:disabled:hover {\n",
              "    background-color: var(--disabled-bg-color);\n",
              "    fill: var(--disabled-fill-color);\n",
              "    box-shadow: none;\n",
              "  }\n",
              "\n",
              "  .colab-df-spinner {\n",
              "    border: 2px solid var(--fill-color);\n",
              "    border-color: transparent;\n",
              "    border-bottom-color: var(--fill-color);\n",
              "    animation:\n",
              "      spin 1s steps(1) infinite;\n",
              "  }\n",
              "\n",
              "  @keyframes spin {\n",
              "    0% {\n",
              "      border-color: transparent;\n",
              "      border-bottom-color: var(--fill-color);\n",
              "      border-left-color: var(--fill-color);\n",
              "    }\n",
              "    20% {\n",
              "      border-color: transparent;\n",
              "      border-left-color: var(--fill-color);\n",
              "      border-top-color: var(--fill-color);\n",
              "    }\n",
              "    30% {\n",
              "      border-color: transparent;\n",
              "      border-left-color: var(--fill-color);\n",
              "      border-top-color: var(--fill-color);\n",
              "      border-right-color: var(--fill-color);\n",
              "    }\n",
              "    40% {\n",
              "      border-color: transparent;\n",
              "      border-right-color: var(--fill-color);\n",
              "      border-top-color: var(--fill-color);\n",
              "    }\n",
              "    60% {\n",
              "      border-color: transparent;\n",
              "      border-right-color: var(--fill-color);\n",
              "    }\n",
              "    80% {\n",
              "      border-color: transparent;\n",
              "      border-right-color: var(--fill-color);\n",
              "      border-bottom-color: var(--fill-color);\n",
              "    }\n",
              "    90% {\n",
              "      border-color: transparent;\n",
              "      border-bottom-color: var(--fill-color);\n",
              "    }\n",
              "  }\n",
              "</style>\n",
              "\n",
              "  <script>\n",
              "    async function quickchart(key) {\n",
              "      const quickchartButtonEl =\n",
              "        document.querySelector('#' + key + ' button');\n",
              "      quickchartButtonEl.disabled = true;  // To prevent multiple clicks.\n",
              "      quickchartButtonEl.classList.add('colab-df-spinner');\n",
              "      try {\n",
              "        const charts = await google.colab.kernel.invokeFunction(\n",
              "            'suggestCharts', [key], {});\n",
              "      } catch (error) {\n",
              "        console.error('Error during call to suggestCharts:', error);\n",
              "      }\n",
              "      quickchartButtonEl.classList.remove('colab-df-spinner');\n",
              "      quickchartButtonEl.classList.add('colab-df-quickchart-complete');\n",
              "    }\n",
              "    (() => {\n",
              "      let quickchartButtonEl =\n",
              "        document.querySelector('#df-21497b01-06c4-4440-9d09-647d78e336d0 button');\n",
              "      quickchartButtonEl.style.display =\n",
              "        google.colab.kernel.accessAllowed ? 'block' : 'none';\n",
              "    })();\n",
              "  </script>\n",
              "</div>\n",
              "    </div>\n",
              "  </div>\n"
            ]
          },
          "metadata": {},
          "execution_count": 61
        }
      ]
    },
    {
      "cell_type": "code",
      "source": [
        "df.isnull().sum()"
      ],
      "metadata": {
        "colab": {
          "base_uri": "https://localhost:8080/"
        },
        "id": "IeI3G-wZaQ-K",
        "outputId": "1d74663e-55fb-4e04-e6b2-5772da472eae"
      },
      "execution_count": null,
      "outputs": [
        {
          "output_type": "execute_result",
          "data": {
            "text/plain": [
              "text     0\n",
              "label    0\n",
              "dtype: int64"
            ]
          },
          "metadata": {},
          "execution_count": 62
        }
      ]
    },
    {
      "cell_type": "code",
      "source": [
        "labelscount = df['label'].value_counts()\n",
        "print(labelscount)"
      ],
      "metadata": {
        "colab": {
          "base_uri": "https://localhost:8080/"
        },
        "id": "xK64ohs7m4Gd",
        "outputId": "2fc65abf-8b00-442b-f830-d807c8dc6e9f"
      },
      "execution_count": null,
      "outputs": [
        {
          "output_type": "stream",
          "name": "stdout",
          "text": [
            "joy         6761\n",
            "sadness     5797\n",
            "anger       2709\n",
            "fear        2373\n",
            "love        1641\n",
            "surprise     719\n",
            "Name: label, dtype: int64\n"
          ]
        }
      ]
    },
    {
      "cell_type": "code",
      "source": [
        "df['label'].hist()"
      ],
      "metadata": {
        "colab": {
          "base_uri": "https://localhost:8080/",
          "height": 447
        },
        "id": "2PrjTq43m-SX",
        "outputId": "302b6f6e-cb9d-4d94-c17a-c60517e4c1eb"
      },
      "execution_count": null,
      "outputs": [
        {
          "output_type": "execute_result",
          "data": {
            "text/plain": [
              "<Axes: >"
            ]
          },
          "metadata": {},
          "execution_count": 64
        },
        {
          "output_type": "display_data",
          "data": {
            "text/plain": [
              "<Figure size 640x480 with 1 Axes>"
            ],
            "image/png": "[encoded data removed]"
          },
          "metadata": {}
        }
      ]
    },
    {
      "cell_type": "code",
      "source": [
        "train_df, test_val_df = train_test_split(df, test_size=0.3, random_state=95)\n",
        "test_df, val_df = train_test_split(test_val_df, test_size=0.5, random_state=95)"
      ],
      "metadata": {
        "id": "afG_ctJGePvM"
      },
      "execution_count": null,
      "outputs": []
    },
    {
      "cell_type": "code",
      "source": [
        "tokenizer = BertTokenizer.from_pretrained('bert-base-uncased')\n",
        "max_length = 128\n",
        "\n",
        "def tokenize_data(data_df):\n",
        "    encodings = tokenizer(data_df['text'].tolist(), truncation=True, padding=True, max_length=max_length, return_tensors='tf')\n",
        "    labels_encoded = pd.factorize(data_df['label'])[0]\n",
        "    return tf.data.Dataset.from_tensor_slices((dict(encodings), labels_encoded)).batch(32)\n",
        "\n",
        "train_dataset = tokenize_data(train_df)\n",
        "val_dataset = tokenize_data(val_df)\n",
        "test_dataset = tokenize_data(test_df)\n"
      ],
      "metadata": {
        "id": "hwxjZAnibC2-"
      },
      "execution_count": null,
      "outputs": []
    },
    {
      "cell_type": "markdown",
      "source": [
        "The provided code utilizes the BERT (Bidirectional Encoder Representations from Transformers) tokenizer from the Hugging Face library to preprocess textual data for a classification task. After there is some tokenizer process of bert-base-uncased. The labels are encoded using pd.factorize to convert categorical labels into numerical format. The resulting datasets, namely train_dataset, val_dataset, and test_dataset, are then batched with a batch size of 32, ready for use in training and evaluating a BERT-based classification model."
      ],
      "metadata": {
        "id": "qaBlNQK4Nc71"
      }
    },
    {
      "cell_type": "markdown",
      "source": [
        "### c. [LO 1, LO 2, LO 3, LO 4 15 points] Develop the model based on Table 1. Train your model based on the train dataset until achieving satisfactory accuracy"
      ],
      "metadata": {
        "id": "SxGl9CTx5i2R"
      }
    },
    {
      "cell_type": "code",
      "source": [
        "num_labels = len(df['label'].unique())\n",
        "bert_model = TFBertForSequenceClassification.from_pretrained('bert-base-uncased', num_labels=num_labels)\n",
        "bert_model.compile(optimizer=tf.keras.optimizers.Adam(learning_rate=1e-5), loss='sparse_categorical_crossentropy', metrics=['accuracy'])"
      ],
      "metadata": {
        "colab": {
          "base_uri": "https://localhost:8080/"
        },
        "id": "zBzb2YPWegHF",
        "outputId": "113a1a6a-bcc2-4e68-e79c-78b53b8be1b2"
      },
      "execution_count": null,
      "outputs": [
        {
          "output_type": "stream",
          "name": "stderr",
          "text": [
            "All PyTorch model weights were used when initializing TFBertForSequenceClassification.\n",
            "\n",
            "Some weights or buffers of the TF 2.0 model TFBertForSequenceClassification were not initialized from the PyTorch model and are newly initialized: ['classifier.weight', 'classifier.bias']\n",
            "You should probably TRAIN this model on a down-stream task to be able to use it for predictions and inference.\n"
          ]
        }
      ]
    },
    {
      "cell_type": "code",
      "source": [
        "bert_result = bert_model.fit(train_dataset,\n",
        "                             epochs=7,\n",
        "                             validation_data=val_dataset)"
      ],
      "metadata": {
        "colab": {
          "base_uri": "https://localhost:8080/"
        },
        "id": "Y7FD-fe0eoeg",
        "outputId": "60a75e0a-fe3e-49d2-a934-c07ec721785f"
      },
      "execution_count": null,
      "outputs": [
        {
          "output_type": "stream",
          "name": "stdout",
          "text": [
            "Epoch 1/7\n",
            "438/438 [==============================] - 309s 597ms/step - loss: 2.1576 - accuracy: 0.3439 - val_loss: 2.7392 - val_accuracy: 0.3700\n",
            "Epoch 2/7\n",
            "438/438 [==============================] - 259s 590ms/step - loss: 1.7625 - accuracy: 0.5595 - val_loss: 3.6031 - val_accuracy: 0.4513\n",
            "Epoch 3/7\n",
            "438/438 [==============================] - 258s 590ms/step - loss: 1.5160 - accuracy: 0.6639 - val_loss: 3.2326 - val_accuracy: 0.5233\n",
            "Epoch 4/7\n",
            "438/438 [==============================] - 264s 602ms/step - loss: 1.5610 - accuracy: 0.6351 - val_loss: 4.3235 - val_accuracy: 0.4500\n",
            "Epoch 5/7\n",
            "438/438 [==============================] - 258s 590ms/step - loss: 1.0461 - accuracy: 0.7849 - val_loss: 6.1821 - val_accuracy: 0.4450\n",
            "Epoch 6/7\n",
            "438/438 [==============================] - 264s 603ms/step - loss: 0.6829 - accuracy: 0.8096 - val_loss: 6.5558 - val_accuracy: 0.4433\n",
            "Epoch 7/7\n",
            "438/438 [==============================] - 258s 589ms/step - loss: 0.5539 - accuracy: 0.8454 - val_loss: 7.8043 - val_accuracy: 0.4453\n"
          ]
        }
      ]
    },
    {
      "cell_type": "markdown",
      "source": [
        "### d. . [LO 1, LO 2 & LO 3, LO 4 10 points] Performance analysis based on testing dataset (find precision, recall, F1-Score and accuracy) of the model and analysis the result.\n"
      ],
      "metadata": {
        "id": "bWUxCmZe3ug3"
      }
    },
    {
      "cell_type": "code",
      "source": [
        "def plot_training_history(history):\n",
        "    train_loss = history.history['loss']\n",
        "    val_loss = history.history['val_loss']\n",
        "    epochs = range(1, len(train_loss) + 1)\n",
        "\n",
        "    plt.figure(figsize=(10, 5))\n",
        "    plt.plot(epochs, train_loss, label='Training Loss')\n",
        "    plt.plot(epochs, val_loss, label='Validation Loss')\n",
        "    plt.xlabel('Epochs')\n",
        "    plt.ylabel('Loss')\n",
        "    plt.title('Training and Validation Loss of BERT model')\n",
        "    plt.legend()\n",
        "    plt.grid(True)\n",
        "    plt.show()\n",
        "\n",
        "plot_training_history(bert_result)"
      ],
      "metadata": {
        "colab": {
          "base_uri": "https://localhost:8080/",
          "height": 487
        },
        "id": "wLOIx-OYu08X",
        "outputId": "9e00c071-4284-4010-a7ad-588995587ea5"
      },
      "execution_count": null,
      "outputs": [
        {
          "output_type": "display_data",
          "data": {
            "text/plain": [
              "<Figure size 1000x500 with 1 Axes>"
            ],
            "image/png": "[encoded data removed]"
          },
          "metadata": {}
        }
      ]
    },
    {
      "cell_type": "markdown",
      "source": [
        "Berikut merupakan training dan validation loss dari model BERT. Model ini terlihat overfitting karena berbentuk kebuka dimana training loss memiliki garis yang dibawah sementara validation loss yang terjadi mengarah naik keatas. Maka model ini dapat dibilang overfitting. Overfitting disebabkan ketika model menjadi terlalu terspesialisasi dalam mempelajari data pelatihan, menangkap noise dan fluktuasi yang tidak dapat digeneralisasi dengan baik pada data yang tidak terlihat. Maka dari itu, model dapat diubah dengan cara regularization, dropout, atau mengurangi kompleksibilitas dari model tersebut yang berbentuk overfitting."
      ],
      "metadata": {
        "id": "N6ndcv6m4bg7"
      }
    },
    {
      "cell_type": "code",
      "source": [
        "from sklearn.metrics import classification_report\n",
        "\n",
        "predictions = bert_model.predict(test_dataset)\n",
        "predicted_labels = np.argmax(predictions.logits, axis=1)\n",
        "\n",
        "true_labels = np.concatenate([labels.numpy() for _, labels in test_dataset], axis=0)\n",
        "\n",
        "report = classification_report(true_labels, predicted_labels, target_names=df['label'].unique())\n",
        "\n",
        "print(report)\n"
      ],
      "metadata": {
        "colab": {
          "base_uri": "https://localhost:8080/"
        },
        "id": "5rLB-XTg4bqO",
        "outputId": "d1389f16-9a8b-4285-d219-df572d32685a"
      },
      "execution_count": null,
      "outputs": [
        {
          "output_type": "stream",
          "name": "stdout",
          "text": [
            "94/94 [==============================] - 15s 158ms/step\n",
            "              precision    recall  f1-score   support\n",
            "\n",
            "     sadness       0.00      0.01      0.00        95\n",
            "       anger       0.01      0.03      0.01       237\n",
            "        love       0.00      0.01      0.01       372\n",
            "    surprise       0.02      0.01      0.01      1013\n",
            "        fear       0.00      0.00      0.00       878\n",
            "         joy       0.00      0.00      0.00       405\n",
            "\n",
            "    accuracy                           0.01      3000\n",
            "   macro avg       0.01      0.01      0.01      3000\n",
            "weighted avg       0.01      0.01      0.01      3000\n",
            "\n"
          ]
        }
      ]
    },
    {
      "cell_type": "code",
      "source": [
        "from sklearn.metrics import precision_score, recall_score, f1_score, accuracy_score\n",
        "\n",
        "predictions = bert_model.predict(test_dataset)\n",
        "predicted_labels = np.argmax(predictions.logits, axis=1)\n",
        "\n",
        "true_labels = np.concatenate([labels.numpy() for _, labels in test_dataset], axis=0)\n",
        "precision = precision_score(true_labels, predicted_labels, average='macro')\n",
        "recall = recall_score(true_labels, predicted_labels, average='macro')\n",
        "f1 = f1_score(true_labels, predicted_labels, average='macro')\n",
        "accuracy = accuracy_score(true_labels, predicted_labels)\n",
        "\n",
        "print(\"Precision:\", precision)\n",
        "print(\"Recall:\", recall)\n",
        "print(\"F1-Score:\", f1)\n",
        "print(\"Accuracy:\", accuracy)\n"
      ],
      "metadata": {
        "colab": {
          "base_uri": "https://localhost:8080/"
        },
        "id": "ftYk1pxb5Mib",
        "outputId": "eae0a4a8-6cd4-4d60-82ad-3b61d7ca2715"
      },
      "execution_count": null,
      "outputs": [
        {
          "output_type": "stream",
          "name": "stdout",
          "text": [
            "94/94 [==============================] - 15s 156ms/step\n",
            "Precision: 0.005663654392184939\n",
            "Recall: 0.009082132384545834\n",
            "F1-Score: 0.005291863938756094\n",
            "Accuracy: 0.006333333333333333\n"
          ]
        }
      ]
    },
    {
      "cell_type": "markdown",
      "source": [
        "Dari hasil yang saya dapatkan diatas,\n",
        "Precision dengan angka (0.0566) merupakan hasil yang sangat rendah karena beberapa data tidak relevant dan cenderung lebih memiliki banyak false positive. Recall yang rendah karena adanya ketidakefektifan model yang terjadi. Untuk f1score yang sangat rendah dapat terjadi karena ketidakseimbangan terhadap metric yang diberikan. Akurasi yang rendah dapat terjadi karena adanya ketidakseimbangan kelas-kelas."
      ],
      "metadata": {
        "id": "7dNXYxz-6uHw"
      }
    },
    {
      "cell_type": "markdown",
      "source": [
        "### Soal nilai tambahan"
      ],
      "metadata": {
        "id": "sh1mlHRnnIze"
      }
    },
    {
      "cell_type": "markdown",
      "source": [
        "What is the difference between BERT and GPT? Explain it to me in max. 5 sentences"
      ],
      "metadata": {
        "id": "MwQlnH5bnOM4"
      }
    },
    {
      "cell_type": "markdown",
      "source": [
        "Perbedaan BERT dan GPT ada di beberapa aspeknya seperti tujuan learning, metode learning, output dari model itu sendiri. Perbedaan antara BERT dan GPT di tujuannya dimana BERT merupakan learning yang digunakan untuk memahami konteks 2 arah yaitu depan dan belakang sementara gpt merupakan learning untuk memprediksi kata yang akan keluar. Metode yang digunakan juga berbeda sehingga BERT menggunakan masked language modelling sementara GPT menggunakan generative modelling. Output dari kedua model juga berbeda dimana BERT hanya dapat mengeluarkan kata-kata dari konteks sebelumnya sedangkan GPT dapat mengeluarkan kata-kata dengan menciptakannya sehingga lebih ada kreatifitas dan inovasi dari GPT itu sendiri."
      ],
      "metadata": {
        "id": "g_rMDW0onRZ-"
      }
    }
  ]
}